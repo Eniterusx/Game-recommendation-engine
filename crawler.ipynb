{
 "cells": [
  {
   "cell_type": "code",
   "execution_count": 31,
   "metadata": {},
   "outputs": [],
   "source": [
    "from dotenv import load_dotenv\n",
    "load_dotenv()\n",
    "\n",
    "# Use the variable with:\n",
    "import os\n",
    "API_KEY = os.getenv(\"API_KEY\")\n",
    "STEAM_ID = os.getenv(\"STEAM_ID\")\n",
    "\n",
    "import requests\n",
    "import pandas as pd\n",
    "from tqdm.auto import tqdm"
   ]
  },
  {
   "cell_type": "markdown",
   "metadata": {},
   "source": [
    "General flow:\n",
    "- Start with my Steam ID.\n",
    "- Get a list of my games and save it in a dataframe.\n",
    "- Everytime the dataframe is updated, save it in a csv file.\n",
    "- Append the SteamID to the list of already visited SteamIDs.\n",
    "- For each SteamID, get a list of their friends, check if they are already in the list of visited SteamIDs, and if not, add them to the list of SteamIDs to visit.\n",
    "- Save the list of SteamIDs to visit in a csv file.\n",
    "- Repeat the process."
   ]
  },
  {
   "cell_type": "code",
   "execution_count": 32,
   "metadata": {},
   "outputs": [],
   "source": [
    "# Takes a Steam ID and returns a DataFrame row with all of the user's games and playtime\n",
    "def get_games(steam_id):\n",
    "    url = f'http://api.steampowered.com/IPlayerService/GetOwnedGames/v0001/?key={API_KEY}&steamid={steam_id}&format=json&include_played_free_games=1'\n",
    "    response = requests.get(url)\n",
    "    data = response.json()\n",
    "    data = data['response']\n",
    "    # only extract app_id and playtime_forever from data['games']\n",
    "    clean_data = []\n",
    "    if 'games' not in data:\n",
    "        return None\n",
    "    for game in data['games']:\n",
    "        if game['playtime_forever'] == 0:\n",
    "            continue\n",
    "        clean_data.append({'id': game['appid'], 'time': game['playtime_forever']})\n",
    "    games = pd.DataFrame({'Total Games': data['game_count'], 'Played Games': len(clean_data), 'Games': [clean_data]}, index=[steam_id])\n",
    "    return games"
   ]
  },
  {
   "cell_type": "code",
   "execution_count": 33,
   "metadata": {},
   "outputs": [],
   "source": [
    "# Takes a Steam ID and returns a list of the user's friends\n",
    "def get_friends(steam_id, visited_friends):\n",
    "    url = f'http://api.steampowered.com/ISteamUser/GetFriendList/v0001/?key={API_KEY}&steamid={steam_id}&relationship=friend'\n",
    "    response = requests.get(url)\n",
    "    data = response.json()\n",
    "    if 'friendslist' not in data:\n",
    "        return None\n",
    "    friends_to_visit = []\n",
    "    for friend in data['friendslist']['friends']:\n",
    "        if friend['steamid'] not in visited_friends:\n",
    "            friends_to_visit.append(friend['steamid'])\n",
    "    return friends_to_visit"
   ]
  },
  {
   "cell_type": "code",
   "execution_count": 34,
   "metadata": {},
   "outputs": [],
   "source": [
    "# Saves all already visited friend IDs and saves it to a file\n",
    "def save_visited_friends(visited_friends):\n",
    "    with open('visited_friends.txt', 'w') as f:\n",
    "        for friend in visited_friends:\n",
    "            f.write(f'{friend}\\n')\n",
    "\n",
    "# Saves the queue of friends to visit to a file\n",
    "def save_friends_queue(friends_queue):\n",
    "    with open('friends_queue.txt', 'w') as f:\n",
    "        for friend in friends_queue:\n",
    "            f.write(f'{friend}\\n')\n",
    "\n",
    "# Appends the games dataframe to a csv file (or creates a new one if it doesn't exist)\n",
    "def save_games(games, filename, overwrite=False):\n",
    "    if not os.path.isfile(filename) or overwrite:\n",
    "        games.to_csv(filename, header=['Total Games', 'Played Games', 'Games'], index_label='Steam ID')\n",
    "    else:\n",
    "        games.to_csv(filename, mode='a', header=False)"
   ]
  },
  {
   "cell_type": "code",
   "execution_count": 35,
   "metadata": {},
   "outputs": [
    {
     "data": {
      "application/vnd.jupyter.widget-view+json": {
       "model_id": "60872f3595214df5b92c32bb51be9752",
       "version_major": 2,
       "version_minor": 0
      },
      "text/plain": [
       "  0%|          | 0/10 [00:00<?, ?it/s]"
      ]
     },
     "metadata": {},
     "output_type": "display_data"
    }
   ],
   "source": [
    "overwrite = True # Set to True to start from scratch\n",
    "\n",
    "# Read queue.txt if exists, otherwise start with STEAM_ID\n",
    "if os.path.exists('friends_queue.txt') and not overwrite:\n",
    "    with open('friends_queue.txt', 'r') as f:\n",
    "        friends_queue = f.read().splitlines()\n",
    "else:\n",
    "    friends_queue = [STEAM_ID]\n",
    "\n",
    "# Read visited_friends.txt if exists\n",
    "if os.path.exists('visited_friends.txt') and not overwrite:\n",
    "    with open('visited_friends.txt', 'r') as f:\n",
    "        visited_friends = f.read().splitlines()\n",
    "else:\n",
    "    visited_friends = []\n",
    "\n",
    "if overwrite:\n",
    "    if os.path.exists('user_games_data.csv'):\n",
    "        os.remove('user_games_data.csv')\n",
    "\n",
    "iterations = 10\n",
    "\n",
    "for i in tqdm(range(iterations)):\n",
    "    user = friends_queue.pop(0)\n",
    "    visited_friends.append(user)\n",
    "\n",
    "    if (i+1)%100 == 0:\n",
    "        print(f\"Queue: {len(friends_queue)} | Visited total: {len(visited_friends)}\")\n",
    "\n",
    "    # Get games and append them to the csv\n",
    "    games = get_games(user)\n",
    "\n",
    "    \n",
    "    # Get (not yet visited) friends of the user and append them to the queue\n",
    "    friends = get_friends(user, visited_friends)\n",
    "    if friends is not None and len(friends) + len(friends_queue) < 3000:\n",
    "        friends_queue.extend(friends)\n",
    "\n",
    "    if games is not None and games['Played Games'][0] > 0:\n",
    "        save_games(games, 'user_games_data.csv')\n",
    "\n",
    "    # Save the visited friends and the friends queue\n",
    "    save_visited_friends(visited_friends)\n",
    "    save_friends_queue(friends_queue)\n",
    "    "
   ]
  },
  {
   "cell_type": "code",
   "execution_count": 27,
   "metadata": {},
   "outputs": [],
   "source": [
    "games = pd.read_csv('user_games_data.csv', index_col=0)"
   ]
  },
  {
   "cell_type": "code",
   "execution_count": 28,
   "metadata": {},
   "outputs": [
    {
     "data": {
      "text/html": [
       "<div>\n",
       "<style scoped>\n",
       "    .dataframe tbody tr th:only-of-type {\n",
       "        vertical-align: middle;\n",
       "    }\n",
       "\n",
       "    .dataframe tbody tr th {\n",
       "        vertical-align: top;\n",
       "    }\n",
       "\n",
       "    .dataframe thead th {\n",
       "        text-align: right;\n",
       "    }\n",
       "</style>\n",
       "<table border=\"1\" class=\"dataframe\">\n",
       "  <thead>\n",
       "    <tr style=\"text-align: right;\">\n",
       "      <th></th>\n",
       "      <th>Total Games</th>\n",
       "      <th>Played Games</th>\n",
       "      <th>Games</th>\n",
       "    </tr>\n",
       "    <tr>\n",
       "      <th>Steam ID</th>\n",
       "      <th></th>\n",
       "      <th></th>\n",
       "      <th></th>\n",
       "    </tr>\n",
       "  </thead>\n",
       "  <tbody>\n",
       "    <tr>\n",
       "      <th>76561197978985924</th>\n",
       "      <td>22</td>\n",
       "      <td>8</td>\n",
       "      <td>[{'id': 10, 'time': 20007}, {'id': 240, 'time'...</td>\n",
       "    </tr>\n",
       "  </tbody>\n",
       "</table>\n",
       "</div>"
      ],
      "text/plain": [
       "                   Total Games  Played Games  \\\n",
       "Steam ID                                       \n",
       "76561197978985924           22             8   \n",
       "\n",
       "                                                               Games  \n",
       "Steam ID                                                              \n",
       "76561197978985924  [{'id': 10, 'time': 20007}, {'id': 240, 'time'...  "
      ]
     },
     "execution_count": 28,
     "metadata": {},
     "output_type": "execute_result"
    }
   ],
   "source": [
    "games.loc[games['Total Games'] < 50]"
   ]
  },
  {
   "cell_type": "code",
   "execution_count": 30,
   "metadata": {},
   "outputs": [
    {
     "data": {
      "text/html": [
       "<div>\n",
       "<style scoped>\n",
       "    .dataframe tbody tr th:only-of-type {\n",
       "        vertical-align: middle;\n",
       "    }\n",
       "\n",
       "    .dataframe tbody tr th {\n",
       "        vertical-align: top;\n",
       "    }\n",
       "\n",
       "    .dataframe thead th {\n",
       "        text-align: right;\n",
       "    }\n",
       "</style>\n",
       "<table border=\"1\" class=\"dataframe\">\n",
       "  <thead>\n",
       "    <tr style=\"text-align: right;\">\n",
       "      <th></th>\n",
       "      <th>Total Games</th>\n",
       "      <th>Played Games</th>\n",
       "      <th>Games</th>\n",
       "    </tr>\n",
       "    <tr>\n",
       "      <th>Steam ID</th>\n",
       "      <th></th>\n",
       "      <th></th>\n",
       "      <th></th>\n",
       "    </tr>\n",
       "  </thead>\n",
       "  <tbody>\n",
       "    <tr>\n",
       "      <th>76561198280830500</th>\n",
       "      <td>1154</td>\n",
       "      <td>882</td>\n",
       "      <td>[{'id': 4000, 'time': 77748}, {'id': 400, 'tim...</td>\n",
       "    </tr>\n",
       "    <tr>\n",
       "      <th>76561197962287503</th>\n",
       "      <td>5613</td>\n",
       "      <td>3815</td>\n",
       "      <td>[{'id': 10, 'time': 3}, {'id': 70, 'time': 77}...</td>\n",
       "    </tr>\n",
       "    <tr>\n",
       "      <th>76561197977849691</th>\n",
       "      <td>11931</td>\n",
       "      <td>7129</td>\n",
       "      <td>[{'id': 10, 'time': 1}, {'id': 220, 'time': 26...</td>\n",
       "    </tr>\n",
       "    <tr>\n",
       "      <th>76561197978985924</th>\n",
       "      <td>22</td>\n",
       "      <td>8</td>\n",
       "      <td>[{'id': 10, 'time': 20007}, {'id': 240, 'time'...</td>\n",
       "    </tr>\n",
       "    <tr>\n",
       "      <th>76561197982447568</th>\n",
       "      <td>956</td>\n",
       "      <td>689</td>\n",
       "      <td>[{'id': 20, 'time': 330}, {'id': 50, 'time': 3...</td>\n",
       "    </tr>\n",
       "    <tr>\n",
       "      <th>76561197986480371</th>\n",
       "      <td>2544</td>\n",
       "      <td>316</td>\n",
       "      <td>[{'id': 10, 'time': 56}, {'id': 240, 'time': 2...</td>\n",
       "    </tr>\n",
       "    <tr>\n",
       "      <th>76561197991669382</th>\n",
       "      <td>11897</td>\n",
       "      <td>2235</td>\n",
       "      <td>[{'id': 10, 'time': 5}, {'id': 240, 'time': 11...</td>\n",
       "    </tr>\n",
       "    <tr>\n",
       "      <th>76561197997628919</th>\n",
       "      <td>332</td>\n",
       "      <td>156</td>\n",
       "      <td>[{'id': 240, 'time': 4418}, {'id': 4000, 'time...</td>\n",
       "    </tr>\n",
       "    <tr>\n",
       "      <th>76561198004311443</th>\n",
       "      <td>827</td>\n",
       "      <td>648</td>\n",
       "      <td>[{'id': 10, 'time': 2628}, {'id': 80, 'time': ...</td>\n",
       "    </tr>\n",
       "  </tbody>\n",
       "</table>\n",
       "</div>"
      ],
      "text/plain": [
       "                   Total Games  Played Games  \\\n",
       "Steam ID                                       \n",
       "76561198280830500         1154           882   \n",
       "76561197962287503         5613          3815   \n",
       "76561197977849691        11931          7129   \n",
       "76561197978985924           22             8   \n",
       "76561197982447568          956           689   \n",
       "76561197986480371         2544           316   \n",
       "76561197991669382        11897          2235   \n",
       "76561197997628919          332           156   \n",
       "76561198004311443          827           648   \n",
       "\n",
       "                                                               Games  \n",
       "Steam ID                                                              \n",
       "76561198280830500  [{'id': 4000, 'time': 77748}, {'id': 400, 'tim...  \n",
       "76561197962287503  [{'id': 10, 'time': 3}, {'id': 70, 'time': 77}...  \n",
       "76561197977849691  [{'id': 10, 'time': 1}, {'id': 220, 'time': 26...  \n",
       "76561197978985924  [{'id': 10, 'time': 20007}, {'id': 240, 'time'...  \n",
       "76561197982447568  [{'id': 20, 'time': 330}, {'id': 50, 'time': 3...  \n",
       "76561197986480371  [{'id': 10, 'time': 56}, {'id': 240, 'time': 2...  \n",
       "76561197991669382  [{'id': 10, 'time': 5}, {'id': 240, 'time': 11...  \n",
       "76561197997628919  [{'id': 240, 'time': 4418}, {'id': 4000, 'time...  \n",
       "76561198004311443  [{'id': 10, 'time': 2628}, {'id': 80, 'time': ...  "
      ]
     },
     "execution_count": 30,
     "metadata": {},
     "output_type": "execute_result"
    }
   ],
   "source": [
    "games"
   ]
  },
  {
   "cell_type": "markdown",
   "metadata": {},
   "source": [
    "GetOwnedGames - include_played_free_games\n",
    "https://developer.valvesoftware.com/wiki/Steam_Web_API#GetPlayerSummaries_.28v0001.29\n",
    "\n",
    "data przeczyścić bo zajmuje w cholerę miejsca"
   ]
  },
  {
   "cell_type": "markdown",
   "metadata": {},
   "source": []
  }
 ],
 "metadata": {
  "kernelspec": {
   "display_name": "ml_pytorch",
   "language": "python",
   "name": "python3"
  },
  "language_info": {
   "codemirror_mode": {
    "name": "ipython",
    "version": 3
   },
   "file_extension": ".py",
   "mimetype": "text/x-python",
   "name": "python",
   "nbconvert_exporter": "python",
   "pygments_lexer": "ipython3",
   "version": "3.10.9"
  }
 },
 "nbformat": 4,
 "nbformat_minor": 2
}
